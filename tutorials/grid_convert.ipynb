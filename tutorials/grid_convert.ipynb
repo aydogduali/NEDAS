{
 "cells": [
  {
   "cell_type": "code",
   "execution_count": 1,
   "id": "ecfb9e45",
   "metadata": {},
   "outputs": [],
   "source": [
    "import numpy as np\n",
    "from datetime import datetime\n",
    "import matplotlib.pyplot as plt\n",
    "import pyproj\n",
    "\n",
    "##NEDAS/grid for handling regular/irregular grids\n",
    "from grid import Grid, Converter\n"
   ]
  },
  {
   "cell_type": "code",
   "execution_count": 2,
   "id": "cae05270",
   "metadata": {},
   "outputs": [],
   "source": [
    "##read in ECMWF wind on lon/lat grid, call it grid1\n",
    "from dataset import ECMWF\n",
    "t = datetime(2022, 1, 3)\n",
    "fname = ECMWF.filename('/scratch/data/', t)\n",
    "x1, y1 = ECMWF.get_xy(fname)\n",
    "wind = ECMWF.get_var(fname, 'wind', t) ##note: wind[0,:] = u and wind[1,:] = v\n",
    "proj1 = ECMWF.proj\n",
    "\n",
    "##define grid1, longitude (x) dimension is cyclic, latitude (y) contains a pole at 90 (index=0)\n",
    "grid1 = Grid(proj1, x1, y1, cyclic_dim='x', pole_dim='y', pole_index=(0,))\n"
   ]
  },
  {
   "cell_type": "code",
   "execution_count": null,
   "id": "2bf20644",
   "metadata": {
    "scrolled": true
   },
   "outputs": [],
   "source": [
    "##you can visualize data using routines provided by the grid object\n",
    "##start a figure\n",
    "plt.figure(figsize=(10,3))\n",
    "ax = plt.subplot(111)\n",
    "\n",
    "##plot the u-wind on lon/lat grid\n",
    "grid1.plot_field(ax, wind[0,:], vmin=-20, vmax=20, cmap='bwr')\n",
    "\n",
    "##you can plot the vectors also, but don't forget to scale the velocity by cos(lat)\n",
    "wind_sc = wind * np.cos(grid1.y*np.pi/180.)\n",
    "\n",
    "##here, we apply uneven spacing in lon, lat directions\n",
    "##don't show vector heads (they are distorted)\n",
    "##and num_steps let's vectors to curve (they become trajectory-like)\n",
    "grid1.plot_vectors(ax, wind_sc, spacing=(0.5, 0.2), showhead=False, num_steps=10)\n",
    "\n",
    "##show the land for a complete map\n",
    "grid1.plot_land(ax, color=None, linecolor='k')\n"
   ]
  },
  {
   "cell_type": "code",
   "execution_count": null,
   "id": "4888f4c6",
   "metadata": {},
   "outputs": [],
   "source": [
    "##read in sea ice states from nextsim output, on irregular mesh, call it grid2\n",
    "import models.nextsim as nx\n",
    "fname = \"/scratch/nextsim_ens_runs/init_run_5km/restart/field_20210102T000000Z.bin\"\n",
    "x2, y2 = nx.nodes_xy(fname.replace('field','mesh'))\n",
    "tri2 = nx.triangulation(fname.replace('field','mesh'))\n",
    "sid = nx.get_var(fname, 'M_VT')    ##sea ice drift, sid[0,:]=siu, sid[1,:]=siv\n",
    "sit = nx.get_var(fname, 'M_thick') ##sea ice thickness\n",
    "\n",
    "##define grid2, for regular=False, tri2.triangles provides indices for each elements' triangular vertices\n",
    "grid2 = Grid(nx.proj, x2, y2, regular=False, triangles=tri2.triangles)\n"
   ]
  },
  {
   "cell_type": "code",
   "execution_count": null,
   "id": "d44ff6e9",
   "metadata": {},
   "outputs": [],
   "source": [
    "##again, visualize data in the native mesh\n",
    "plt.figure(figsize=(8,7))\n",
    "ax = plt.subplot(111)\n",
    "\n",
    "##show thickness as shadings, the plot_field function calls plt.tripcolor for irregular mesh\n",
    "grid2.plot_field(ax, sit, vmin=0, vmax=3, cmap='viridis')\n",
    "\n",
    "##show ice drift vector field in white arrows\n",
    "grid2.plot_vectors(ax, sid, linecolor='w')\n",
    "\n",
    "##show the land with gray color, here we show all the options for plot_land()\n",
    "grid2.plot_land(ax, color=[.5, .5, .5], linecolor='k', linewidth=1,\n",
    "                showgrid=True, dlon=30, dlat=5)\n"
   ]
  },
  {
   "cell_type": "code",
   "execution_count": null,
   "id": "b96111cd",
   "metadata": {},
   "outputs": [],
   "source": [
    "##now we define a regular reference grid, where we gather different variables\n",
    "\n",
    "##define projection using pyproj.Proj\n",
    "##the proj object can convert (lon,lat) to the coordinates (x,y) in the specified projection\n",
    "##  x, y = proj(lon, lat)\n",
    "##  also, backwards: lon, lat = proj(x, y, inverse=True)\n",
    "##so, if you have a model projection that is not included in pyproj, you can describe a function\n",
    "##mapping between lon,lat and x,y and pass it in as proj() here\n",
    "\n",
    "##pick an option:\n",
    "##stereographic (a different rotation from nextsim mesh)\n",
    "proj = pyproj.Proj(\"+proj=stere +a=6378273 +b=6356889.448910593 +lat_0=90 +lon_0=0 +lat_ts=60\")\n",
    "##make a regular grid with resolution dx, in meters\n",
    "x, y = Grid.init_regular_grid(-3e6, 3e6, -3e6, 3e6, dx=2e4)\n"
   ]
  },
  {
   "cell_type": "code",
   "execution_count": null,
   "id": "5fbdfbe3",
   "metadata": {},
   "outputs": [],
   "source": [
    "##or lambert conformal, just for fun:\n",
    "proj = pyproj.Proj(\"+proj=lcc +lon_0=-180 +lat_1=40 +lat_2=60\")\n",
    "x, y = Grid.init_regular_grid(-3e6, 3e6, 5e6, 11e6, dx=2e4)\n",
    "\n",
    "##or try your own projection:\n",
    "#proj = ?"
   ]
  },
  {
   "cell_type": "code",
   "execution_count": null,
   "id": "f187da83",
   "metadata": {},
   "outputs": [],
   "source": [
    "##define reference grid object\n",
    "grid = Grid(proj, x, y)\n",
    "\n",
    "##create converter objects to go from grid1/grid2 to the reference grid\n",
    "##  the computation of rotation matrix (for vector field), and interpolation weights\n",
    "##  are done in the init of object, then they are stored, so the actual convert can\n",
    "##  be done very quickly\n",
    "cnv1 = Converter(grid1, grid)\n",
    "cnv2 = Converter(grid2, grid)\n"
   ]
  },
  {
   "cell_type": "code",
   "execution_count": null,
   "id": "34dde0b9",
   "metadata": {},
   "outputs": [],
   "source": [
    "##convert the variables\n",
    "## is_vector tells the converter that the vector field needs rotation\n",
    "## method = \"linear\" (default) or \"nearest\" for interpolation\n",
    "wind_ = cnv1.convert(wind, is_vector=True, method='linear')\n",
    "sit_ = cnv2.convert(sit)\n",
    "sid_ = cnv2.convert(sid, is_vector=True)\n"
   ]
  },
  {
   "cell_type": "code",
   "execution_count": null,
   "id": "c1dced1e",
   "metadata": {},
   "outputs": [],
   "source": [
    "##now we plot some variables from both grid1,grid2 on the reference grid\n",
    "plt.figure(figsize=(8,18))\n",
    "\n",
    "##here we show all the parameters for plot_field() and plot_vectors(), the program\n",
    "##tries to set parameters optimally, see grid.py for more details.\n",
    "\n",
    "##sea ice properties on top:\n",
    "ax = plt.subplot(211)\n",
    "grid.plot_land(ax, color=[.5, .5, .5], linecolor='k')\n",
    "grid.plot_field(ax, sit_, vmin=0, vmax=3, cmap='viridis')\n",
    "grid.plot_vectors(ax, sid_, V=0.05, L=2e5, spacing=1, num_steps=10,\n",
    "                  showref=True, ref_xy=(2e6, 8.5e6), refcolor=[.3, .5, .5],\n",
    "                  linecolor='w', linewidth=1, showhead=True, headwidth=0.1, headlength=0.3)\n",
    "\n",
    "##wind on bottom:\n",
    "ax = plt.subplot(212)\n",
    "grid.plot_land(ax, linecolor='k')\n",
    "grid.plot_field(ax, wind_[0,:], vmin=-20, vmax=20, cmap='bwr')\n",
    "grid.plot_vectors(ax, wind_, showref=True, ref_xy=(2.5e6, 5.5e6))\n"
   ]
  },
  {
   "cell_type": "code",
   "execution_count": null,
   "id": "155f481c",
   "metadata": {},
   "outputs": [],
   "source": []
  }
 ],
 "metadata": {
  "kernelspec": {
   "display_name": "Python 3 (ipykernel)",
   "language": "python",
   "name": "python3"
  },
  "language_info": {
   "codemirror_mode": {
    "name": "ipython",
    "version": 3
   },
   "file_extension": ".py",
   "mimetype": "text/x-python",
   "name": "python",
   "nbconvert_exporter": "python",
   "pygments_lexer": "ipython3",
   "version": "3.10.10"
  }
 },
 "nbformat": 4,
 "nbformat_minor": 5
}
