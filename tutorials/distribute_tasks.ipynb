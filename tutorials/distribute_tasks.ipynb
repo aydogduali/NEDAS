{
 "cells": [
  {
   "cell_type": "code",
   "execution_count": 1,
   "id": "33e87a7a-57a1-4950-95c8-aeea1dec3daa",
   "metadata": {},
   "outputs": [],
   "source": [
    "import numpy as np\n",
    "import assim_tools"
   ]
  },
  {
   "cell_type": "code",
   "execution_count": 2,
   "id": "d5cdc54b-1b68-42b9-be0b-efed46b147bf",
   "metadata": {},
   "outputs": [],
   "source": [
    "comm = assim_tools.parallel_start()\n",
    "\n",
    "nproc = 10  ##number of processors\n",
    "comm.size = nproc\n"
   ]
  },
  {
   "cell_type": "code",
   "execution_count": 6,
   "id": "9425ff92-ce93-4308-b905-2d8a8dc58d97",
   "metadata": {},
   "outputs": [
    {
     "data": {
      "text/plain": [
       "array([ 0.,  0.,  0.,  0.,  0.,  0.,  0.,  0.,  0.,  0., 10., 10., 10.,\n",
       "       10., 10., 10., 10., 10., 10., 10.,  0.,  0.,  0.,  0.,  0.,  0.,\n",
       "        0.,  0.,  0.,  0.,  0.,  0.,  0.,  0.,  0.,  0.,  0.,  0.,  0.,\n",
       "        0.,  0.,  0.,  0.,  0.,  0.,  0.,  0.,  0.,  0.,  0.,  0.,  0.,\n",
       "        0.,  0.,  0.,  0.,  0.,  0.,  0.,  0.,  0.,  0.,  0.,  0.,  0.,\n",
       "        0.,  0.,  0.,  0.,  0.,  0.,  0.,  0.,  0.,  0.,  0.,  0.,  0.,\n",
       "        0.,  0.,  0.,  0.,  0.,  0.,  0.,  0.,  0.,  0.,  0.,  0.,  0.,\n",
       "        0.,  0.,  0.,  0.,  0.,  0.,  0.,  0.,  0.])"
      ]
     },
     "execution_count": 6,
     "metadata": {},
     "output_type": "execute_result"
    }
   ],
   "source": [
    "ntask = 100 ##number of tasks\n",
    "tasks = np.arange(ntask)  ##task ids, can be the indices of a spatial domain, in a time sequence, etc.\n",
    "\n",
    "###load is the number of operations per task\n",
    "#load = np.ones(ntask)                      ##the default is even load\n",
    "\n",
    "###this creates an unbalanced task situation\n",
    "load = np.zeros(ntask); load[10:20] = 10   ##load concentrated on some tasks\n",
    "#load = np.random.randint(1, 10, ntask)      ##random load, this is more challenging, even division is not always possible\n",
    "\n",
    "load"
   ]
  },
  {
   "cell_type": "code",
   "execution_count": 7,
   "id": "7ee7ea9d-b1f8-4096-9ef7-5a7d55b3e971",
   "metadata": {},
   "outputs": [
    {
     "data": {
      "text/plain": [
       "{0: array([ 0,  1,  2,  3,  4,  5,  6,  7,  8,  9, 10]),\n",
       " 1: array([11]),\n",
       " 2: array([12]),\n",
       " 3: array([13]),\n",
       " 4: array([14]),\n",
       " 5: array([15]),\n",
       " 6: array([16]),\n",
       " 7: array([17]),\n",
       " 8: array([18]),\n",
       " 9: array([19, 20, 21, 22, 23, 24, 25, 26, 27, 28, 29, 30, 31, 32, 33, 34, 35,\n",
       "        36, 37, 38, 39, 40, 41, 42, 43, 44, 45, 46, 47, 48, 49, 50, 51, 52,\n",
       "        53, 54, 55, 56, 57, 58, 59, 60, 61, 62, 63, 64, 65, 66, 67, 68, 69,\n",
       "        70, 71, 72, 73, 74, 75, 76, 77, 78, 79, 80, 81, 82, 83, 84, 85, 86,\n",
       "        87, 88, 89, 90, 91, 92, 93, 94, 95, 96, 97, 98, 99])}"
      ]
     },
     "execution_count": 7,
     "metadata": {},
     "output_type": "execute_result"
    }
   ],
   "source": [
    "###distribute_tasks will find the task ids for each processor rank, that evenly divide the total load\n",
    "###task_list is a dict: processor rank -> list of corresponding task ids\n",
    "task_list = assim_tools.distribute_tasks(comm, tasks, load)\n",
    "task_list"
   ]
  },
  {
   "cell_type": "code",
   "execution_count": 8,
   "id": "db5d4146-4f80-4863-a9fd-9638a53acdda",
   "metadata": {},
   "outputs": [
    {
     "name": "stdout",
     "output_type": "stream",
     "text": [
      "proc  0  has  11 tasks, total load =  10.0\n",
      "proc  1  has  1 tasks, total load =  10.0\n",
      "proc  2  has  1 tasks, total load =  10.0\n",
      "proc  3  has  1 tasks, total load =  10.0\n",
      "proc  4  has  1 tasks, total load =  10.0\n",
      "proc  5  has  1 tasks, total load =  10.0\n",
      "proc  6  has  1 tasks, total load =  10.0\n",
      "proc  7  has  1 tasks, total load =  10.0\n",
      "proc  8  has  1 tasks, total load =  10.0\n",
      "proc  9  has  81 tasks, total load =  10.0\n"
     ]
    }
   ],
   "source": [
    "##number of tasks and total load on each processor\n",
    "for r in task_list:\n",
    "    print('proc ', r, ' has ', task_list[r].size, 'tasks, total load = ', np.sum(load[task_list[r]]))"
   ]
  },
  {
   "cell_type": "code",
   "execution_count": null,
   "id": "11915f73-b529-42ba-9c8b-9a7246c5f206",
   "metadata": {},
   "outputs": [],
   "source": []
  }
 ],
 "metadata": {
  "kernelspec": {
   "display_name": "Python 3 (ipykernel)",
   "language": "python",
   "name": "python3"
  },
  "language_info": {
   "codemirror_mode": {
    "name": "ipython",
    "version": 3
   },
   "file_extension": ".py",
   "mimetype": "text/x-python",
   "name": "python",
   "nbconvert_exporter": "python",
   "pygments_lexer": "ipython3",
   "version": "3.11.3"
  }
 },
 "nbformat": 4,
 "nbformat_minor": 5
}
