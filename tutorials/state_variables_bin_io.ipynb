{
 "cells": [
  {
   "cell_type": "code",
   "execution_count": 1,
   "id": "0c082dc8",
   "metadata": {},
   "outputs": [],
   "source": [
    "import numpy as np\n",
    "import matplotlib.pyplot as plt\n",
    "from datetime import datetime, timedelta\n",
    "\n",
    "##module for handling analysis grid\n",
    "import pyproj\n",
    "from grid import Grid, Converter, regular_grid\n",
    "\n",
    "##modules that get state_variable from model output\n",
    "from models import topaz, nextsim\n",
    "\n",
    "##utility functions to handle basic io for state variables\n",
    "from assim_tools.basic_io import *"
   ]
  },
  {
   "cell_type": "code",
   "execution_count": 2,
   "id": "ffdbe03e",
   "metadata": {},
   "outputs": [],
   "source": [
    "##analysis grid defined as a regular polar stere grid\n",
    "proj = pyproj.Proj('+proj=stere +lat_0=90 +lon_0=-30 +lat_ts=60')\n",
    "x, y = regular_grid(-2.5e6, 1.5e6, -1.5e6, 2.5e6, 3e3)\n",
    "grid = Grid(proj, x, y)"
   ]
  },
  {
   "cell_type": "code",
   "execution_count": 3,
   "id": "1a084835",
   "metadata": {},
   "outputs": [],
   "source": [
    "##analysis time\n",
    "t = datetime(2007, 1, 10)"
   ]
  },
  {
   "cell_type": "code",
   "execution_count": 4,
   "id": "54ea5b15",
   "metadata": {},
   "outputs": [],
   "source": [
    "##get the land mask for the analysis grid\n",
    "path = '/cluster/work/users/yingyue/data/nextsim_ens'\n",
    "filename = path+'/001/field_'+t.strftime('%Y%m%dT%H%M%SZ')+'.bin'\n",
    "\n",
    "##native nextsim grid and its converter to analysis grid\n",
    "grid1 = nextsim.get_grid(filename)\n",
    "conv = Converter(grid1, grid)\n",
    "\n",
    "##read a variable and convert to analysis grid\n",
    "tmp = nextsim.read_data(filename, 'M_conc')\n",
    "\n",
    "##land mask is where the converted variable is nan\n",
    "mask = np.isnan(conv.convert(tmp))\n"
   ]
  },
  {
   "cell_type": "code",
   "execution_count": 5,
   "id": "84e2c5bb",
   "metadata": {
    "scrolled": false
   },
   "outputs": [
    {
     "data": {
      "text/plain": [
       "{'atmos_surf_wind': {'is_vector': True, 'units': 'm/s'},\n",
       " 'atmos_surf_temp': {'is_vector': False, 'units': 'K'},\n",
       " 'atmos_surf_dew_temp': {'is_vector': False, 'units': 'K'},\n",
       " 'atmos_surf_press': {'is_vector': False, 'units': 'Pa'},\n",
       " 'atmos_precip': {'is_vector': False, 'units': 'kg/m2/s'},\n",
       " 'atmos_snowfall': {'is_vector': False, 'units': 'kg/m2/s'},\n",
       " 'atmos_down_shortwave': {'is_vector': False, 'units': 'W/m2'},\n",
       " 'atmos_down_longwave': {'is_vector': False, 'units': 'W/m2'},\n",
       " 'seaice_conc': {'is_vector': False, 'units': '%'},\n",
       " 'seaice_thick': {'is_vector': False, 'units': 'm'},\n",
       " 'snow_thick': {'is_vector': False, 'units': 'm'},\n",
       " 'seaice_drift': {'is_vector': True, 'units': 'm'},\n",
       " 'seaice_velocity': {'is_vector': True, 'units': 'm/s'},\n",
       " 'seaice_damage': {'is_vector': False, 'units': '%'},\n",
       " 'ocean_surf_temp': {'is_vector': False, 'units': 'K'},\n",
       " 'ocean_surf_velocity': {'is_vector': True, 'units': 'm/s'},\n",
       " 'ocean_surf_height': {'is_vector': False, 'units': 'm/s'},\n",
       " 'ocean_temp': {'is_vector': False, 'units': 'K'},\n",
       " 'ocean_salinity': {'is_vector': False, 'units': '%'},\n",
       " 'ocean_velocity': {'is_vector': True, 'units': 'm/s'}}"
      ]
     },
     "execution_count": 5,
     "metadata": {},
     "output_type": "execute_result"
    }
   ],
   "source": [
    "##list of available state variable names\n",
    "variables"
   ]
  },
  {
   "cell_type": "code",
   "execution_count": null,
   "id": "da9907f7",
   "metadata": {
    "scrolled": false
   },
   "outputs": [],
   "source": [
    "##create a field_info for the state variable\n",
    "state_def_file = '/cluster/home/yingyue/code/NEDAS/config/state_def'\n",
    "\n",
    "info = field_info(state_def_file,  ##state definition file, see config.__init__.py\n",
    "                  t,               ##analysis time (datetime obj)\n",
    "                  (-24, 0),        ##time window (left offset, right offset) in hours\n",
    "                  np.arange(-50, 1),  ##vertical level indices (ocean goes -1, -2..., atmos goes +1, +2,...)\n",
    "                  20,              ##ensemble size\n",
    "                  *x.shape,        ##grid shape: ny, nx\n",
    "                  mask             ##the land mask\n",
    "                 )\n",
    "info"
   ]
  },
  {
   "cell_type": "code",
   "execution_count": 6,
   "id": "0227ef04",
   "metadata": {
    "scrolled": true
   },
   "outputs": [],
   "source": [
    "##name of the state variable bin file\n",
    "binfile = '/cluster/work/users/yingyue/prior.bin'\n",
    "\n",
    "##we write \"info\" into a dat file with same basename as binfile\n",
    "write_field_info(binfile, info)"
   ]
  },
  {
   "cell_type": "code",
   "execution_count": 7,
   "id": "2f2fba8e",
   "metadata": {},
   "outputs": [],
   "source": [
    "##the first record in the binfile is the land mask,\n",
    "##write_mask also creates the binfile if it doesn't exist\n",
    "write_mask(binfile, info, mask)"
   ]
  },
  {
   "cell_type": "code",
   "execution_count": null,
   "id": "4705ac92",
   "metadata": {
    "scrolled": false
   },
   "outputs": [],
   "source": [
    "##processing nextsim variables\n",
    "path = '/cluster/work/users/yingyue/data/nextsim_ens'\n",
    "\n",
    "##dict to convert variables name to native nextsim names\n",
    "var_dict = nextsim.var_dict\n",
    "\n",
    "##loop over time slices\n",
    "t_offsets = info['time_window']\n",
    "var_dt = 24  ##should get from info\n",
    "for n in np.arange(int(t_offsets[0]/var_dt), int(t_offsets[1]/var_dt)+1):\n",
    "    tn = t + n*var_dt*timedelta(hours=1)\n",
    "\n",
    "    ##loop over members\n",
    "    for m in range(info['nens']):\n",
    "        filename = path+'/{:03d}'.format(m+1)+'/field_'+tn.strftime('%Y%m%dT%H%M%SZ')+'.bin'\n",
    "    \n",
    "        ##each time and member will have different mesh configuration, need a separate converter\n",
    "        grid1 = nextsim.get_grid(filename)\n",
    "        conv = Converter(grid1, grid)\n",
    "    \n",
    "        ##loop over the variables in state\n",
    "        for v in [info['var_names'][i] for i, s in enumerate(info['var_sources']) if s=='models.nextsim']:\n",
    "            is_vector = variables[v]['is_vector']\n",
    "            dat = nextsim.read_data(filename, var_dict[v]['name'])\n",
    "            if is_vector:\n",
    "                dat = dat.reshape((2, -1))\n",
    "        \n",
    "            ##convert to analysis grid\n",
    "            dat_ = conv.convert(dat, is_vector=is_vector)\n",
    "        \n",
    "            ##write the dat_ field to the binfile\n",
    "            print('writing variable '+v, ' member', m+1, 'time', tn)\n",
    "            if is_vector:\n",
    "                fid = list(set(i for i, rec in info['fields'].items() if rec['var_name']==v+'_x' and \n",
    "                               rec['member']==m and rec['time']==tn))[0]\n",
    "                write_field(binfile, info, mask, fid, dat_[0,...])\n",
    "                fid = list(set(i for i, rec in info['fields'].items() if rec['var_name']==v+'_y' and\n",
    "                               rec['member']==m and rec['time']==tn))[0]\n",
    "                write_field(binfile, info, mask, fid, dat_[1,...])\n",
    "            else:\n",
    "                fid = list(set(i for i, rec in info['fields'].items() if rec['var_name']==v and\n",
    "                               rec['member']==m and rec['time']==tn))[0]\n",
    "                write_field(binfile, info, mask, fid, dat_)\n",
    "               "
   ]
  },
  {
   "cell_type": "code",
   "execution_count": null,
   "id": "6e937a54",
   "metadata": {},
   "outputs": [],
   "source": [
    "##processing topaz variables\n",
    "path = '/cluster/work/users/yingyue/data/TP4'\n",
    "mask1 = topaz.get_mask(path+'/depth_TP4b0.12_01.a')\n",
    "\n",
    "##hycom grid is fixed so one converter is enough\n",
    "conv1 = Converter(topaz.grid, grid)\n",
    "\n",
    "##let's pretend the TP4restart file tlevel=1,2 is this two time (for now)\n",
    "for n, tn in enumerate((datetime(2007,1,9), datetime(2007,1,10))):\n",
    "    for m in range(info['nens']):\n",
    "        filename = path+'/TP4restart2007_002_00_mem{:03d}.a'.format(m+1)\n",
    "        for z in range(50):  ##hycom variables have 50 vertical layers\n",
    "            ##read ocean_velocity\n",
    "            u  = topaz.read_data(filename, 'u', level=z+1, tlevel=n+1, mask=mask1)\n",
    "            v  = topaz.read_data(filename, 'v', level=z+1, tlevel=n+1, mask=mask1)\n",
    "\n",
    "            ##convert to analysis grid\n",
    "            dat = conv1.convert(np.array([u, v]), is_vector=True)\n",
    "            \n",
    "            print('writing variable ocean_velocity', ' level', -1-z, ' member', m+1, 'time', tn)\n",
    "            fid = list(set(i for i, rec in info['fields'].items() if rec['var_name']=='ocean_velocity_x' and\n",
    "                           rec['member']==m and rec['level']==-1-z and rec['time']==tn))[0]\n",
    "            write_field(binfile, info, mask, fid, dat[0,...])\n",
    "            fid = list(set(i for i, rec in info['fields'].items() if rec['var_name']=='ocean_velocity_y' and\n",
    "                           rec['member']==m and rec['level']==-1-z and rec['time']==tn))[0]\n",
    "            write_field(binfile, info, mask, fid, dat[1,...])\n"
   ]
  },
  {
   "cell_type": "code",
   "execution_count": null,
   "id": "b2a906db",
   "metadata": {},
   "outputs": [],
   "source": []
  }
 ],
 "metadata": {
  "kernelspec": {
   "display_name": "Python 3 (ipykernel)",
   "language": "python",
   "name": "python3"
  },
  "language_info": {
   "codemirror_mode": {
    "name": "ipython",
    "version": 3
   },
   "file_extension": ".py",
   "mimetype": "text/x-python",
   "name": "python",
   "nbconvert_exporter": "python",
   "pygments_lexer": "ipython3",
   "version": "3.10.8"
  }
 },
 "nbformat": 4,
 "nbformat_minor": 5
}
