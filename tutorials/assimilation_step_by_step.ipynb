{
 "cells": [
  {
   "cell_type": "code",
   "execution_count": 58,
   "id": "0c082dc8",
   "metadata": {},
   "outputs": [],
   "source": [
    "import numpy as np\n",
    "from numba import njit\n",
    "import matplotlib.pyplot as plt\n",
    "from datetime import datetime, timedelta\n",
    "import time\n",
    "\n",
    "from assim_tools import *\n",
    "\n",
    "import config as c\n",
    "from conversion import *\n",
    "from parallel import *\n"
   ]
  },
  {
   "cell_type": "code",
   "execution_count": 67,
   "id": "5926d688",
   "metadata": {},
   "outputs": [],
   "source": [
    "c.work_dir = '/Users/yueng/scratch/qg_testcase'\n",
    "c.time = '200101050000'"
   ]
  },
  {
   "cell_type": "code",
   "execution_count": 108,
   "id": "b358769a-dfca-4a2b-b91a-ba7ccf1e24e4",
   "metadata": {},
   "outputs": [
    {
     "name": "stdout",
     "output_type": "stream",
     "text": [
      "number of unique field records, nrec=8\n"
     ]
    }
   ],
   "source": [
    "state_info = parse_state_info(c)\n",
    "obs_info = parse_obs_info(c)"
   ]
  },
  {
   "cell_type": "code",
   "execution_count": 109,
   "id": "d197bf53-1f09-4b39-8bb5-6a9aa6c0f09e",
   "metadata": {},
   "outputs": [],
   "source": [
    "partitions = [tuple(lst) for lst in np.load(c.work_dir+'/cycle/'+c.time+'/analysis/partitions.npy', allow_pickle=True)]\n",
    "obs_inds = np.load(c.work_dir+'/cycle/'+c.time+'/analysis/obs_inds.npy', allow_pickle=True).item()\n",
    "par_list = np.load(c.work_dir+'/cycle/'+c.time+'/analysis/par_list.npy', allow_pickle=True).item()"
   ]
  },
  {
   "cell_type": "code",
   "execution_count": 110,
   "id": "96f95513-d569-44b9-be9f-7aca1d1a3ce0",
   "metadata": {},
   "outputs": [],
   "source": [
    "c.comm.size = 1\n",
    "rec_list_full = [i for i in state_info['fields'].keys()]\n",
    "rec_size = np.array([2 if r['is_vector'] else 1 for i,r in state_info['fields'].items()])\n",
    "rec_list = distribute_tasks(c.comm, rec_list_full, rec_size)\n",
    "\n",
    "obs_rec_list_full = [i for i in obs_info['records'].keys()]\n",
    "obs_rec_size = np.array([2 if r['is_vector'] else 1 for i,r in obs_info['records'].items()])\n",
    "obs_rec_list = distribute_tasks(c.comm, obs_rec_list_full, obs_rec_size)\n",
    "\n",
    "c.comm.size = 4\n",
    "mem_list = distribute_tasks(c.comm, np.arange(c.nens))"
   ]
  },
  {
   "cell_type": "code",
   "execution_count": 111,
   "id": "00d782ab-51cb-4c35-b287-b0d49cc35c9c",
   "metadata": {},
   "outputs": [],
   "source": [
    "c.pid_mem = 0\n",
    "c.pid_rec = 0\n",
    "\n",
    "state_prior = np.load(c.work_dir+'/cycle/'+c.time+'/analysis/state_prior.{}.{}.npy'.format(c.pid_mem, c.pid_rec), allow_pickle=True).item()\n",
    "z_state = np.load(c.work_dir+'/cycle/'+c.time+'/analysis/z_state.{}.{}.npy'.format(c.pid_mem, c.pid_rec), allow_pickle=True).item()\n",
    "lobs = np.load(c.work_dir+'/cycle/'+c.time+'/analysis/lobs.{}.{}.npy'.format(c.pid_mem, c.pid_rec), allow_pickle=True).item()\n",
    "lobs_prior = np.load(c.work_dir+'/cycle/'+c.time+'/analysis/lobs_prior.{}.{}.npy'.format(c.pid_mem, c.pid_rec), allow_pickle=True).item()\n"
   ]
  },
  {
   "cell_type": "code",
   "execution_count": 122,
   "id": "8dac3858-88ab-4862-854c-8033457898fd",
   "metadata": {},
   "outputs": [],
   "source": [
    "pid_mem = 0\n",
    "pid_rec = 0\n",
    "obs_seq = np.load(c.work_dir+'/cycle/'+c.time+'/analysis/obs_seq.{}.npy'.format(pid_rec), allow_pickle=True).item()\n",
    "obs_prior_seq = np.load(c.work_dir+'/cycle/'+c.time+'/analysis/obs_prior_seq.{}.{}.npy'.format(pid_mem, pid_rec), allow_pickle=True).item()"
   ]
  },
  {
   "cell_type": "code",
   "execution_count": null,
   "id": "3abd37ed-b784-455a-bbea-2d5b0ff11e1f",
   "metadata": {},
   "outputs": [],
   "source": [
    "##which field record to show?\n",
    "rec_id = [i for i,r in state_info['fields'].items() if r['name']=='velocity' and r['k']==0][0]\n",
    "\n",
    "##which member?\n",
    "mem_id = 0\n",
    "\n",
    "binfile = '/Users/yueng/scratch/qg_testcase/cycle/200101050000/analysis/prior_mean_state.bin'\n",
    "fld0 = read_field(binfile, state_info, c.mask, mem_id, rec_id)\n",
    "binfile = '/Users/yueng/scratch/qg_testcase/cycle/200101050000/analysis/post_mean_state.bin'\n",
    "fld1 = read_field(binfile, state_info, c.mask, mem_id, rec_id)\n",
    "\n",
    "fig, ax = plt.subplots(1, 1, figsize=(6,5))\n",
    "im = c.grid.plot_field(ax, (fld1-fld0)[0,...], vmin=-4, vmax=4, cmap='bwr')\n",
    "plt.colorbar(im)\n",
    "c.grid.plot_land(ax, color='gray', linecolor='k')\n",
    "\n",
    "##obs network\n",
    "#ax.scatter(obs_seq[0]['x'], obs_seq[0]['y'], 5, color='k', marker='.')"
   ]
  },
  {
   "cell_type": "code",
   "execution_count": null,
   "id": "9cb38be4-f65e-44a6-9503-e748f8921aaf",
   "metadata": {},
   "outputs": [],
   "source": []
  },
  {
   "cell_type": "code",
   "execution_count": null,
   "id": "d098854d-17b9-4532-a4ea-11d5d9d063ff",
   "metadata": {},
   "outputs": [],
   "source": []
  }
 ],
 "metadata": {
  "kernelspec": {
   "display_name": "Python 3 (ipykernel)",
   "language": "python",
   "name": "python3"
  },
  "language_info": {
   "codemirror_mode": {
    "name": "ipython",
    "version": 3
   },
   "file_extension": ".py",
   "mimetype": "text/x-python",
   "name": "python",
   "nbconvert_exporter": "python",
   "pygments_lexer": "ipython3",
   "version": "3.11.4"
  }
 },
 "nbformat": 4,
 "nbformat_minor": 5
}
